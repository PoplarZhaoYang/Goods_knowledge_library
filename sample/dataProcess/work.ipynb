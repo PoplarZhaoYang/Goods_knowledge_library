{
 "cells": [
  {
   "cell_type": "code",
   "execution_count": 1,
   "metadata": {
    "collapsed": false,
    "deletable": true,
    "editable": true
   },
   "outputs": [
    {
     "name": "stdout",
     "output_type": "stream",
     "text": [
      "{\"answer\": \"/不/客气\\n\", \"tag\": 0}{\"answer\": \"/我会/尽快/安排/不要/急/会/尽快/稍/等/给/掌柜/说/下/不要/着急/正在/安排/理解/正在/紧张/安排/中\\n\", \"tag\": 0}{\"answer\": \"/偏大/偏/小/是/有/说明/如果/没看/看到/特殊/说明/就是/标准/尺码/根据/平时/穿/尺码/拍/就行了\\n\", \"tag\": 1}{\"answer\": \"/掌柜/现在/不在/退货/地址/掌柜/会/第一/一时/一时间/时间/回复\\n\", \"tag\": 0}{\"answer\": \"/本店/默认/发/某/著名/快递/特定/快递/要求/在/订单/中/留言\\n\", \"tag\": 1}{\"answer\": \"/包/邮/的话/下单/时/系统/会/自动/扣减/相应/费用/放心/购买/如果/显示/邮费/就是/不/包/邮/额\\n\", \"tag\": 1}{\"answer\": \"/发货/发货地/可/在/商品/主/图右/右边/查看\\n\", \"tag\": 1}{\"answer\": \"/退换/退换货/换货/问题/我会/帮/备注/放心\\n\", \"tag\": 1}{\"answer\": \"\\n\", \"tag\": 0}{\"answer\": \"/商品/高端/大气/上档/上档次/档次/已经/有/很多/人选/选择/送/人/额\n"
     ]
    }
   ],
   "source": [
    "#展示训练数据内容\n",
    "with open('sourceData', 'r') as f:\n",
    "    print f.read()[0:1000]"
   ]
  },
  {
   "cell_type": "code",
   "execution_count": 2,
   "metadata": {
    "collapsed": false,
    "deletable": true,
    "editable": true
   },
   "outputs": [
    {
     "name": "stdout",
     "output_type": "stream",
     "text": [
      "/偏大/偏/小/是/有/说明/如果/没看/看到/特殊/说明/就是/标准/尺码/根据/平时/穿/尺码/拍/就行了\n"
     ]
    }
   ],
   "source": [
    "import pandas as pd\n",
    "import json\n",
    "import codecs\n",
    "import pprint\n",
    "import logging\n",
    "\n",
    "#显然训练数据不是标准的json，需要先预处理成一个成员为字典的list\n",
    "with codecs.open('sourceData', 'r+', encoding='utf-8') as f:\n",
    "    stemp = f.read()\n",
    "    \n",
    "    #数据文本的处理，包括划分，切开，将字符串构造为字典\n",
    "    stemp = stemp.replace('}{', '}|{')\n",
    "    stemp = stemp.replace('\\\\n', '')\n",
    "    slist = stemp.split('|')\n",
    "    for i in range(len(slist) - 1):   \n",
    "        slist[i] = eval(slist[i])\n",
    "        slist[i]['answer'].decode('utf-8')\n",
    "    \n",
    "#成果检验\n",
    "print slist[2]['answer']"
   ]
  },
  {
   "cell_type": "code",
   "execution_count": 3,
   "metadata": {
    "collapsed": false,
    "deletable": true,
    "editable": true
   },
   "outputs": [],
   "source": [
    "#利用slist构造sklearn的datasets来训练数据\n",
    "\n",
    "#全部词语的集合集合\n",
    "wordSet = set()\n",
    "for c in slist:\n",
    "    if not isinstance(c, dict):\n",
    "        continue\n",
    "    sent = c['answer'].decode('utf-8')\n",
    "    k = sent.split('/')\n",
    "    for kk in k:\n",
    "        wordSet.add(kk)\n",
    "        \n",
    "wordSetSize = len(wordSet)\n",
    "\n",
    "#日志\n",
    "logging.basicConfig(format-'%(asctime)s : %(levelname)s : %(message)s', level=logging.INFO)\n",
    "\n",
    "#生成数据字典\n",
    "\n",
    "\n",
    "    "
   ]
  }
 ],
 "metadata": {
  "kernelspec": {
   "display_name": "Python 2",
   "language": "python",
   "name": "python2"
  },
  "language_info": {
   "codemirror_mode": {
    "name": "ipython",
    "version": 2
   },
   "file_extension": ".py",
   "mimetype": "text/x-python",
   "name": "python",
   "nbconvert_exporter": "python",
   "pygments_lexer": "ipython2",
   "version": "2.7.10"
  }
 },
 "nbformat": 4,
 "nbformat_minor": 2
}
